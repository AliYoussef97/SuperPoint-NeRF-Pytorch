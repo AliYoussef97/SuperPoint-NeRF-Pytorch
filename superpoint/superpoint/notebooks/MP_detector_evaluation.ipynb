{
 "cells": [
  {
   "cell_type": "code",
   "execution_count": null,
   "metadata": {},
   "outputs": [],
   "source": [
    "import cv2\n",
    "import numpy as np\n",
    "import matplotlib.pyplot as plt\n",
    "from superpoint.settings import EXPER_PATH\n",
    "import superpoint.evaluations.detector_evaluation as ev\n",
    "from utils import plot_imgs\n",
    "%matplotlib inline\n",
    "%load_ext autoreload\n",
    "%autoreload 2"
   ]
  },
  {
   "cell_type": "code",
   "execution_count": null,
   "metadata": {},
   "outputs": [],
   "source": [
    "experiments = ['mp_synth-no-aug-no-noise','mp_synth-no-aug-noise','mp_synth-aug-no-noise','mp_synth-aug-noise']\n",
    "confidence_thresholds = [0.1]*4\n"
   ]
  },
  {
   "cell_type": "code",
   "execution_count": null,
   "metadata": {},
   "outputs": [],
   "source": [
    "plt.figure(dpi=150)\n",
    "for e, t in zip(experiments, confidence_thresholds):\n",
    "    p, r, prob = ev.compute_pr(e, distance_thresh=4)\n",
    "    plt.plot(r, p, label=e)\n",
    "    \n",
    "    mAP = ev.compute_mAP(p, r)\n",
    "    print('> {}'.format(e))\n",
    "    print('mAP: {}'.format(mAP))\n",
    "    \n",
    "    op_idx = np.max(np.where(prob > t))\n",
    "    plt.plot(r[op_idx], p[op_idx], marker='o', color='k', markersize=3)\n",
    "    \n",
    "plt.legend(), plt.xlabel('Recall'), plt.ylabel('Precision')"
   ]
  },
  {
   "cell_type": "code",
   "execution_count": null,
   "metadata": {},
   "outputs": [],
   "source": [
    "for e, t in zip(experiments, confidence_thresholds):\n",
    "    error = ev.compute_loc_error(e, prob_thresh=t, distance_thresh=4)\n",
    "    print('> {}: {}'.format(e, error))"
   ]
  },
  {
   "cell_type": "code",
   "execution_count": null,
   "metadata": {},
   "outputs": [],
   "source": [
    "def draw_keypoints(img, corners, color):\n",
    "    keypoints = [cv2.KeyPoint(int(c[1]), int(c[0]), 1) for c in np.stack(corners).T]\n",
    "    return cv2.drawKeypoints(img.astype(np.uint8), keypoints, None, color=color)"
   ]
  },
  {
   "cell_type": "code",
   "execution_count": null,
   "metadata": {},
   "outputs": [],
   "source": [
    "paths = [ev.get_paths(e) for e in experiments]\n",
    "for i in range(15):\n",
    "    images = []\n",
    "    for j, (e, t) in enumerate(zip(experiments, confidence_thresholds)):\n",
    "        data = np.load(paths[j][i])\n",
    "        if e == experiments[0]:\n",
    "            images.append(draw_keypoints(data['image'] * 255, np.where(data['keypoint_map']), (0, 255, 0)))\n",
    "        images.append(draw_keypoints(data['image'] * 255, np.where(data['prob_nms'] > t), (0, 255, 0)))\n",
    "    plot_imgs([im/255. for im in images], titles=['ground truth']+experiments)"
   ]
  }
 ],
 "metadata": {
  "kernelspec": {
   "display_name": "UCL-Project",
   "language": "python",
   "name": "python3"
  },
  "language_info": {
   "codemirror_mode": {
    "name": "ipython",
    "version": 3
   },
   "file_extension": ".py",
   "mimetype": "text/x-python",
   "name": "python",
   "nbconvert_exporter": "python",
   "pygments_lexer": "ipython3",
   "version": "3.8.16"
  },
  "orig_nbformat": 4
 },
 "nbformat": 4,
 "nbformat_minor": 2
}

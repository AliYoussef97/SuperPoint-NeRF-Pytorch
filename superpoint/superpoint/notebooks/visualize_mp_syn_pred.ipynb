{
 "cells": [
  {
   "cell_type": "code",
   "execution_count": null,
   "metadata": {},
   "outputs": [],
   "source": [
    "import numpy as np\n",
    "from torch.utils.data import DataLoader\n",
    "import yaml\n",
    "import torch\n",
    "import cv2\n",
    "from superpoint.data.Synthetic_dataset import SyntheticShapes\n",
    "from superpoint.models.SuperPoint import SuperPoint\n",
    "from superpoint.settings import CKPT_PATH\n",
    "from utils import plot_imgs\n",
    "import os.path as osp"
   ]
  },
  {
   "cell_type": "code",
   "execution_count": null,
   "metadata": {},
   "outputs": [],
   "source": [
    "config_path = osp.realpath(osp.join(osp.abspath('..'), 'configs\\\\magicpoint_syn.yaml'))\n",
    "\n",
    "with open(config_path, 'r') as f:\n",
    "    config = yaml.safe_load(f)\n",
    "\n",
    "config[\"pretrained\"] = \"\\\\magicpoint_syn_v1\\\\magicpoint_syn_v1.pth\"\n",
    "config[\"model\"][\"detector_head\"][\"det_thresh\"] = 0.015\n",
    "config[\"data\"][\"augmentation\"][\"homographic\"][\"enable_test\"] = True\n",
    "\n",
    "dataset = SyntheticShapes(config[\"data\"], task=\"test\", device=\"cpu\")\n",
    "data_loader = DataLoader(dataset, batch_size=1, shuffle=False, num_workers=0, collate_fn=dataset.batch_collator)\n",
    "\n",
    "model = SuperPoint(config[\"model\"])\n",
    "\n",
    "model_state_dict =  model.state_dict()                \n",
    "pretrained_dict = torch.load(f'{CKPT_PATH}\\{config[\"pretrained\"]}',map_location=\"cpu\")\n",
    "pretrained_dict = pretrained_dict[\"model_state_dict\"]\n",
    "                \n",
    "for k,v in pretrained_dict.items():\n",
    "    if k in model_state_dict.keys():\n",
    "        model_state_dict[k] = v\n",
    "                \n",
    "model.load_state_dict(model_state_dict)\n",
    "model.to(\"cpu\").eval()\n"
   ]
  },
  {
   "cell_type": "code",
   "execution_count": null,
   "metadata": {},
   "outputs": [],
   "source": [
    "def draw_keypoints(img, corners, color):\n",
    "    keypoints = [cv2.KeyPoint(int(c[1]), int(c[0]), 0.5) for c in np.stack(corners).T]\n",
    "    return cv2.drawKeypoints(img.astype(np.uint8), keypoints, None, color=color)\n",
    "def draw_overlay(img, mask, color=[0, 0, 255], op=0.5):\n",
    "    img[np.where(mask)] = img[np.where(mask)]*(1-op) + np.array(color)*op\n",
    "def display(d,pred):\n",
    "    img = draw_keypoints(d[\"raw\"]['image'][0,...].cpu().squeeze(0).numpy() * 255, np.where(pred.cpu().squeeze(0).numpy()), (0, 255, 0))\n",
    "    draw_overlay(img, np.logical_not(d[\"raw\"]['valid_mask'].cpu().squeeze(0).numpy()), [255, 0, 0])\n",
    "    return img"
   ]
  },
  {
   "cell_type": "code",
   "execution_count": null,
   "metadata": {},
   "outputs": [],
   "source": [
    "model.eval()\n",
    "with torch.no_grad():\n",
    "    for i,data in enumerate(data_loader):\n",
    "        image = data[\"raw\"][\"image\"]\n",
    "        outputs = model(image)\n",
    "        pred = outputs[\"detector_output\"][\"pred_pts\"]\n",
    "        plot_imgs([display(data,pred)/255.] , dpi=100)\n",
    "        if i == 3:\n",
    "            break"
   ]
  }
 ],
 "metadata": {
  "kernelspec": {
   "display_name": "UCL-Project",
   "language": "python",
   "name": "python3"
  },
  "language_info": {
   "codemirror_mode": {
    "name": "ipython",
    "version": 3
   },
   "file_extension": ".py",
   "mimetype": "text/x-python",
   "name": "python",
   "nbconvert_exporter": "python",
   "pygments_lexer": "ipython3",
   "version": "3.8.16"
  },
  "orig_nbformat": 4
 },
 "nbformat": 4,
 "nbformat_minor": 2
}
